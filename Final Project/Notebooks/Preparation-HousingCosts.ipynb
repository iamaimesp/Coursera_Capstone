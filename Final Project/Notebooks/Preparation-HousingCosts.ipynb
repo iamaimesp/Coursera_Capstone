{
 "cells": [
  {
   "cell_type": "markdown",
   "metadata": {},
   "source": [
    "Import the required libraries:\n",
    "* `pandas`, for importing CSV files into a dataframe, and viceversa"
   ]
  },
  {
   "cell_type": "code",
   "execution_count": 1,
   "metadata": {},
   "outputs": [],
   "source": [
    "import pandas as pd"
   ]
  },
  {
   "cell_type": "markdown",
   "metadata": {},
   "source": [
    "Uncomment the following lines to download the data files from Zillow's webpage. Otherwise, the provided copies in `source_data` will be used."
   ]
  },
  {
   "cell_type": "code",
   "execution_count": 2,
   "metadata": {},
   "outputs": [],
   "source": [
    "# ZHVI for single family homes\n",
    "# !wget -O source_data/Zip_Zhvi_SingleFamilyResidence.csv http://files.zillowstatic.com/research/public/Zip/Zip_Zhvi_SingleFamilyResidence.csv\n",
    "# ZHVI for multi-family homes\n",
    "# !wget -O source_data/Zip_Zhvi_Condominum.csv http://files.zillowstatic.com/research/public/Zip/Zip_Zhvi_Condominum.csv\n",
    "# ZHVI for 1 bedroom houses\n",
    "# !wget -O source_data/Zip_Zhvi_1bedroom.csv http://files.zillowstatic.com/research/public/Zip/Zip_Zhvi_1bedroom.csv\n",
    "# ZHVI for 2 bedroom houses\n",
    "# !wget -O source_data/Zip_Zhvi_2bedroom.csv http://files.zillowstatic.com/research/public/Zip/Zip_Zhvi_2bedroom.csv\n",
    "# ZHVI for 3 bedroom houses\n",
    "# !wget -O source_data/Zip_Zhvi_3bedroom.csv http://files.zillowstatic.com/research/public/Zip/Zip_Zhvi_3bedroom.csv\n",
    "# ZHVI for 4 bedroom houses\n",
    "# !wget -O source_data/Zip_Zhvi_4bedroom.csv http://files.zillowstatic.com/research/public/Zip/Zip_Zhvi_4bedroom.csv\n",
    "# ZHVI for 5 or more bedroom houses\n",
    "# !wget -O source_data/Zip_Zhvi_5BedroomOrMore.csv http://files.zillowstatic.com/research/public/Zip/Zip_Zhvi_5BedroomOrMore.csv\n",
    "# ZRI for all homes\n",
    "# !wget -O source_data/Zip_Zri_AllHomesPlusMultifamily.csv http://files.zillowstatic.com/research/public/Zip/Zip_Zri_AllHomesPlusMultifamily.csv"
   ]
  },
  {
   "cell_type": "markdown",
   "metadata": {},
   "source": [
    "Now we can import all the CSV files into dataframes"
   ]
  },
  {
   "cell_type": "code",
   "execution_count": 49,
   "metadata": {},
   "outputs": [
    {
     "data": {
      "text/plain": [
       "(13181, 120)"
      ]
     },
     "execution_count": 49,
     "metadata": {},
     "output_type": "execute_result"
    }
   ],
   "source": [
    "zhvi_sfh=pd.read_csv(\"source_data/Zip_Zhvi_SingleFamilyResidence.csv\")\n",
    "zhvi_sfh.shape\n",
    "zhvi_mfh=pd.read_csv(\"source_data/Zip_Zhvi_Condominum.csv\")\n",
    "zhvi_mfh.shape\n",
    "zhvi_1bd=pd.read_csv(\"source_data/Zip_Zhvi_1bedroom.csv\")\n",
    "zhvi_1bd.shape\n",
    "zhvi_2bd=pd.read_csv(\"source_data/Zip_Zhvi_2bedroom.csv\")\n",
    "zhvi_2bd.shape\n",
    "zhvi_3bd=pd.read_csv(\"source_data/Zip_Zhvi_3bedroom.csv\")\n",
    "zhvi_3bd.shape\n",
    "zhvi_4bd=pd.read_csv(\"source_data/Zip_Zhvi_4bedroom.csv\")\n",
    "zhvi_4bd.shape\n",
    "zhvi_5bd=pd.read_csv(\"source_data/Zip_Zhvi_5BedroomOrMore.csv\")\n",
    "zhvi_5bd.shape\n",
    "zri_all=pd.read_csv(\"source_data/Zip_Zri_AllHomesPlusMultifamily.csv\")\n",
    "zri_all.shape"
   ]
  },
  {
   "cell_type": "markdown",
   "metadata": {},
   "source": [
    "We also import the CSV file with the commute times generated earlier into another dataframe"
   ]
  },
  {
   "cell_type": "code",
   "execution_count": 76,
   "metadata": {},
   "outputs": [
    {
     "data": {
      "text/plain": [
       "(181, 10)"
      ]
     },
     "execution_count": 76,
     "metadata": {},
     "output_type": "execute_result"
    }
   ],
   "source": [
    "commutetimes=pd.read_csv(\"prepared_data/zcta_commute_times_reduced.csv\")\n",
    "commutetimes.shape"
   ]
  },
  {
   "cell_type": "markdown",
   "metadata": {},
   "source": [
    "The next step for us is to remove unwanted columns from the dataframes with the housing indexes, as each ZHVI dataframe has 300 columns, and the ZRI dataframe has 120. In practice, we only need to keep the `RegionName` column, as that is the field that has to match the ZCTA, and the column with the index value for December 2019 (column `2019-12-31` in the ZHVI dataframes, and `2019-12` in the ZRI dataframes)"
   ]
  },
  {
   "cell_type": "code",
   "execution_count": 51,
   "metadata": {},
   "outputs": [],
   "source": [
    "zhvi_sfh_thin=zhvi_sfh[['RegionName','2019-12-31']].copy()\n",
    "zhvi_mfh_thin=zhvi_mfh[['RegionName','2019-12-31']].copy()\n",
    "zhvi_1bd_thin=zhvi_1bd[['RegionName','2019-12-31']].copy()\n",
    "zhvi_2bd_thin=zhvi_2bd[['RegionName','2019-12-31']].copy()\n",
    "zhvi_3bd_thin=zhvi_3bd[['RegionName','2019-12-31']].copy()\n",
    "zhvi_4bd_thin=zhvi_4bd[['RegionName','2019-12-31']].copy()\n",
    "zhvi_5bd_thin=zhvi_5bd[['RegionName','2019-12-31']].copy()\n",
    "zri_all_thin=zri_all[['RegionName', '2019-12']].copy()"
   ]
  },
  {
   "cell_type": "markdown",
   "metadata": {},
   "source": [
    "As all these dataframes have the same column name, we are going to rename that column now to make iut easier to handle the merged dataframe later"
   ]
  },
  {
   "cell_type": "code",
   "execution_count": 52,
   "metadata": {},
   "outputs": [],
   "source": [
    "zhvi_sfh_thin.rename(columns={\"2019-12-31\":\"zhvi_sfh\"},inplace=True)\n",
    "zhvi_mfh_thin.rename(columns={\"2019-12-31\":\"zhvi_mfh\"},inplace=True)\n",
    "zhvi_1bd_thin.rename(columns={\"2019-12-31\":\"zhvi_1bd\"},inplace=True)\n",
    "zhvi_2bd_thin.rename(columns={\"2019-12-31\":\"zhvi_2bd\"},inplace=True)\n",
    "zhvi_3bd_thin.rename(columns={\"2019-12-31\":\"zhvi_3bd\"},inplace=True)\n",
    "zhvi_4bd_thin.rename(columns={\"2019-12-31\":\"zhvi_4bd\"},inplace=True)\n",
    "zhvi_5bd_thin.rename(columns={\"2019-12-31\":\"zhvi_5bd\"},inplace=True)\n",
    "zri_all_thin.rename(columns={\"2019-12\":\"zri_all\"},inplace=True)"
   ]
  },
  {
   "cell_type": "markdown",
   "metadata": {},
   "source": [
    "The next step is to merge all the housing index columns from the housing dataframes with the commutetimes dataframe."
   ]
  },
  {
   "cell_type": "code",
   "execution_count": 53,
   "metadata": {},
   "outputs": [],
   "source": [
    "df_tmp = pd.merge(commutetimes, zhvi_sfh_thin, left_on=\"ZCTA5CE10\", right_on=\"RegionName\", how=\"inner\").copy()\n",
    "del df_tmp[\"RegionName\"]\n",
    "df_tmp = pd.merge(df_tmp, zhvi_mfh_thin, left_on=\"ZCTA5CE10\", right_on=\"RegionName\", how=\"inner\").copy()\n",
    "del df_tmp[\"RegionName\"]\n",
    "df_tmp = pd.merge(df_tmp, zhvi_1bd_thin, left_on=\"ZCTA5CE10\", right_on=\"RegionName\", how=\"inner\").copy()\n",
    "del df_tmp[\"RegionName\"]\n",
    "df_tmp = pd.merge(df_tmp, zhvi_2bd_thin, left_on=\"ZCTA5CE10\", right_on=\"RegionName\", how=\"inner\").copy()\n",
    "del df_tmp[\"RegionName\"]\n",
    "df_tmp = pd.merge(df_tmp, zhvi_3bd_thin, left_on=\"ZCTA5CE10\", right_on=\"RegionName\", how=\"inner\").copy()\n",
    "del df_tmp[\"RegionName\"]\n",
    "df_tmp = pd.merge(df_tmp, zhvi_4bd_thin, left_on=\"ZCTA5CE10\", right_on=\"RegionName\", how=\"inner\").copy()\n",
    "del df_tmp[\"RegionName\"]\n",
    "df_tmp = pd.merge(df_tmp, zhvi_5bd_thin, left_on=\"ZCTA5CE10\", right_on=\"RegionName\", how=\"inner\").copy()\n",
    "del df_tmp[\"RegionName\"]\n",
    "commutetimes_housing = pd.merge(df_tmp, zri_all_thin, left_on=\"ZCTA5CE10\", right_on=\"RegionName\", how=\"inner\").copy()\n",
    "del commutetimes_housing[\"RegionName\"]"
   ]
  },
  {
   "cell_type": "code",
   "execution_count": 65,
   "metadata": {},
   "outputs": [
    {
     "data": {
      "text/html": [
       "<div>\n",
       "<style scoped>\n",
       "    .dataframe tbody tr th:only-of-type {\n",
       "        vertical-align: middle;\n",
       "    }\n",
       "\n",
       "    .dataframe tbody tr th {\n",
       "        vertical-align: top;\n",
       "    }\n",
       "\n",
       "    .dataframe thead th {\n",
       "        text-align: right;\n",
       "    }\n",
       "</style>\n",
       "<table border=\"1\" class=\"dataframe\">\n",
       "  <thead>\n",
       "    <tr style=\"text-align: right;\">\n",
       "      <th></th>\n",
       "      <th>STUSPS</th>\n",
       "      <th>ZCTA5CE10</th>\n",
       "      <th>ct_06:00</th>\n",
       "      <th>ct_06:30</th>\n",
       "      <th>ct_07:00</th>\n",
       "      <th>ct_07:30</th>\n",
       "      <th>ct_08:00</th>\n",
       "      <th>ct_08:30</th>\n",
       "      <th>ct_09:00</th>\n",
       "      <th>ct_09:30</th>\n",
       "      <th>zhvi_sfh</th>\n",
       "      <th>zhvi_mfh</th>\n",
       "      <th>zhvi_1bd</th>\n",
       "      <th>zhvi_2bd</th>\n",
       "      <th>zhvi_3bd</th>\n",
       "      <th>zhvi_4bd</th>\n",
       "      <th>zhvi_5bd</th>\n",
       "      <th>zri_all</th>\n",
       "    </tr>\n",
       "  </thead>\n",
       "  <tbody>\n",
       "    <tr>\n",
       "      <th>0</th>\n",
       "      <td>MD</td>\n",
       "      <td>20903</td>\n",
       "      <td>35.9334</td>\n",
       "      <td>43.6932</td>\n",
       "      <td>46.8932</td>\n",
       "      <td>50.1866</td>\n",
       "      <td>49.9400</td>\n",
       "      <td>46.8766</td>\n",
       "      <td>41.2900</td>\n",
       "      <td>36.9100</td>\n",
       "      <td>411485.0</td>\n",
       "      <td>132811.0</td>\n",
       "      <td>97111.0</td>\n",
       "      <td>169494.0</td>\n",
       "      <td>370863.0</td>\n",
       "      <td>443196.0</td>\n",
       "      <td>453451.0</td>\n",
       "      <td>2004.0</td>\n",
       "    </tr>\n",
       "    <tr>\n",
       "      <th>1</th>\n",
       "      <td>MD</td>\n",
       "      <td>20715</td>\n",
       "      <td>42.4998</td>\n",
       "      <td>48.8400</td>\n",
       "      <td>55.5534</td>\n",
       "      <td>57.2766</td>\n",
       "      <td>57.8668</td>\n",
       "      <td>53.1632</td>\n",
       "      <td>46.0534</td>\n",
       "      <td>41.8268</td>\n",
       "      <td>353359.0</td>\n",
       "      <td>151136.0</td>\n",
       "      <td>184149.0</td>\n",
       "      <td>231795.0</td>\n",
       "      <td>344916.0</td>\n",
       "      <td>357194.0</td>\n",
       "      <td>427007.0</td>\n",
       "      <td>1895.0</td>\n",
       "    </tr>\n",
       "    <tr>\n",
       "      <th>2</th>\n",
       "      <td>MD</td>\n",
       "      <td>20716</td>\n",
       "      <td>39.6434</td>\n",
       "      <td>47.4834</td>\n",
       "      <td>54.2600</td>\n",
       "      <td>56.0366</td>\n",
       "      <td>56.8734</td>\n",
       "      <td>51.8068</td>\n",
       "      <td>44.6800</td>\n",
       "      <td>40.6600</td>\n",
       "      <td>332640.0</td>\n",
       "      <td>189470.0</td>\n",
       "      <td>138294.0</td>\n",
       "      <td>230586.0</td>\n",
       "      <td>304802.0</td>\n",
       "      <td>364215.0</td>\n",
       "      <td>448082.0</td>\n",
       "      <td>1943.0</td>\n",
       "    </tr>\n",
       "    <tr>\n",
       "      <th>3</th>\n",
       "      <td>MD</td>\n",
       "      <td>20720</td>\n",
       "      <td>38.2502</td>\n",
       "      <td>46.2368</td>\n",
       "      <td>50.6466</td>\n",
       "      <td>53.3268</td>\n",
       "      <td>54.7566</td>\n",
       "      <td>51.6768</td>\n",
       "      <td>43.6000</td>\n",
       "      <td>39.7900</td>\n",
       "      <td>432368.0</td>\n",
       "      <td>272576.0</td>\n",
       "      <td>398887.0</td>\n",
       "      <td>247074.0</td>\n",
       "      <td>338757.0</td>\n",
       "      <td>463750.0</td>\n",
       "      <td>503876.0</td>\n",
       "      <td>2080.0</td>\n",
       "    </tr>\n",
       "    <tr>\n",
       "      <th>4</th>\n",
       "      <td>MD</td>\n",
       "      <td>20774</td>\n",
       "      <td>38.0966</td>\n",
       "      <td>46.4934</td>\n",
       "      <td>52.1066</td>\n",
       "      <td>55.9198</td>\n",
       "      <td>56.8066</td>\n",
       "      <td>51.9134</td>\n",
       "      <td>44.3232</td>\n",
       "      <td>40.6934</td>\n",
       "      <td>367446.0</td>\n",
       "      <td>186530.0</td>\n",
       "      <td>97768.0</td>\n",
       "      <td>212789.0</td>\n",
       "      <td>307462.0</td>\n",
       "      <td>394240.0</td>\n",
       "      <td>504181.0</td>\n",
       "      <td>1770.0</td>\n",
       "    </tr>\n",
       "    <tr>\n",
       "      <th>5</th>\n",
       "      <td>MD</td>\n",
       "      <td>20781</td>\n",
       "      <td>26.2168</td>\n",
       "      <td>32.0234</td>\n",
       "      <td>35.3202</td>\n",
       "      <td>38.0568</td>\n",
       "      <td>39.2702</td>\n",
       "      <td>39.5266</td>\n",
       "      <td>34.7366</td>\n",
       "      <td>30.6000</td>\n",
       "      <td>362782.0</td>\n",
       "      <td>169546.0</td>\n",
       "      <td>128707.0</td>\n",
       "      <td>272726.0</td>\n",
       "      <td>398331.0</td>\n",
       "      <td>390723.0</td>\n",
       "      <td>366905.0</td>\n",
       "      <td>1617.0</td>\n",
       "    </tr>\n",
       "    <tr>\n",
       "      <th>6</th>\n",
       "      <td>MD</td>\n",
       "      <td>20910</td>\n",
       "      <td>32.7868</td>\n",
       "      <td>36.4134</td>\n",
       "      <td>39.0332</td>\n",
       "      <td>42.0864</td>\n",
       "      <td>44.5034</td>\n",
       "      <td>44.7200</td>\n",
       "      <td>44.0734</td>\n",
       "      <td>43.4834</td>\n",
       "      <td>635028.0</td>\n",
       "      <td>282197.0</td>\n",
       "      <td>257564.0</td>\n",
       "      <td>370160.0</td>\n",
       "      <td>617643.0</td>\n",
       "      <td>664578.0</td>\n",
       "      <td>733117.0</td>\n",
       "      <td>1906.0</td>\n",
       "    </tr>\n",
       "    <tr>\n",
       "      <th>7</th>\n",
       "      <td>MD</td>\n",
       "      <td>20782</td>\n",
       "      <td>36.3498</td>\n",
       "      <td>41.0766</td>\n",
       "      <td>44.7736</td>\n",
       "      <td>48.1632</td>\n",
       "      <td>50.1766</td>\n",
       "      <td>46.8368</td>\n",
       "      <td>41.3466</td>\n",
       "      <td>36.8364</td>\n",
       "      <td>357378.0</td>\n",
       "      <td>95165.0</td>\n",
       "      <td>82781.0</td>\n",
       "      <td>259208.0</td>\n",
       "      <td>357050.0</td>\n",
       "      <td>388460.0</td>\n",
       "      <td>391751.0</td>\n",
       "      <td>1849.0</td>\n",
       "    </tr>\n",
       "    <tr>\n",
       "      <th>8</th>\n",
       "      <td>MD</td>\n",
       "      <td>20772</td>\n",
       "      <td>40.4268</td>\n",
       "      <td>45.3332</td>\n",
       "      <td>51.8900</td>\n",
       "      <td>52.4002</td>\n",
       "      <td>52.5000</td>\n",
       "      <td>48.1964</td>\n",
       "      <td>43.5632</td>\n",
       "      <td>42.1234</td>\n",
       "      <td>347050.0</td>\n",
       "      <td>214246.0</td>\n",
       "      <td>135274.0</td>\n",
       "      <td>230998.0</td>\n",
       "      <td>292993.0</td>\n",
       "      <td>383534.0</td>\n",
       "      <td>456070.0</td>\n",
       "      <td>1833.0</td>\n",
       "    </tr>\n",
       "    <tr>\n",
       "      <th>9</th>\n",
       "      <td>MD</td>\n",
       "      <td>20607</td>\n",
       "      <td>37.1334</td>\n",
       "      <td>41.2266</td>\n",
       "      <td>49.2400</td>\n",
       "      <td>50.9632</td>\n",
       "      <td>47.1234</td>\n",
       "      <td>44.2568</td>\n",
       "      <td>38.6932</td>\n",
       "      <td>36.1466</td>\n",
       "      <td>408062.0</td>\n",
       "      <td>350248.0</td>\n",
       "      <td>377730.0</td>\n",
       "      <td>224939.0</td>\n",
       "      <td>309557.0</td>\n",
       "      <td>433167.0</td>\n",
       "      <td>466558.0</td>\n",
       "      <td>NaN</td>\n",
       "    </tr>\n",
       "  </tbody>\n",
       "</table>\n",
       "</div>"
      ],
      "text/plain": [
       "  STUSPS  ZCTA5CE10  ct_06:00  ct_06:30  ct_07:00  ct_07:30  ct_08:00  \\\n",
       "0     MD      20903   35.9334   43.6932   46.8932   50.1866   49.9400   \n",
       "1     MD      20715   42.4998   48.8400   55.5534   57.2766   57.8668   \n",
       "2     MD      20716   39.6434   47.4834   54.2600   56.0366   56.8734   \n",
       "3     MD      20720   38.2502   46.2368   50.6466   53.3268   54.7566   \n",
       "4     MD      20774   38.0966   46.4934   52.1066   55.9198   56.8066   \n",
       "5     MD      20781   26.2168   32.0234   35.3202   38.0568   39.2702   \n",
       "6     MD      20910   32.7868   36.4134   39.0332   42.0864   44.5034   \n",
       "7     MD      20782   36.3498   41.0766   44.7736   48.1632   50.1766   \n",
       "8     MD      20772   40.4268   45.3332   51.8900   52.4002   52.5000   \n",
       "9     MD      20607   37.1334   41.2266   49.2400   50.9632   47.1234   \n",
       "\n",
       "   ct_08:30  ct_09:00  ct_09:30  zhvi_sfh  zhvi_mfh  zhvi_1bd  zhvi_2bd  \\\n",
       "0   46.8766   41.2900   36.9100  411485.0  132811.0   97111.0  169494.0   \n",
       "1   53.1632   46.0534   41.8268  353359.0  151136.0  184149.0  231795.0   \n",
       "2   51.8068   44.6800   40.6600  332640.0  189470.0  138294.0  230586.0   \n",
       "3   51.6768   43.6000   39.7900  432368.0  272576.0  398887.0  247074.0   \n",
       "4   51.9134   44.3232   40.6934  367446.0  186530.0   97768.0  212789.0   \n",
       "5   39.5266   34.7366   30.6000  362782.0  169546.0  128707.0  272726.0   \n",
       "6   44.7200   44.0734   43.4834  635028.0  282197.0  257564.0  370160.0   \n",
       "7   46.8368   41.3466   36.8364  357378.0   95165.0   82781.0  259208.0   \n",
       "8   48.1964   43.5632   42.1234  347050.0  214246.0  135274.0  230998.0   \n",
       "9   44.2568   38.6932   36.1466  408062.0  350248.0  377730.0  224939.0   \n",
       "\n",
       "   zhvi_3bd  zhvi_4bd  zhvi_5bd  zri_all  \n",
       "0  370863.0  443196.0  453451.0   2004.0  \n",
       "1  344916.0  357194.0  427007.0   1895.0  \n",
       "2  304802.0  364215.0  448082.0   1943.0  \n",
       "3  338757.0  463750.0  503876.0   2080.0  \n",
       "4  307462.0  394240.0  504181.0   1770.0  \n",
       "5  398331.0  390723.0  366905.0   1617.0  \n",
       "6  617643.0  664578.0  733117.0   1906.0  \n",
       "7  357050.0  388460.0  391751.0   1849.0  \n",
       "8  292993.0  383534.0  456070.0   1833.0  \n",
       "9  309557.0  433167.0  466558.0      NaN  "
      ]
     },
     "execution_count": 65,
     "metadata": {},
     "output_type": "execute_result"
    }
   ],
   "source": [
    "commutetimes_housing.head(10)"
   ]
  },
  {
   "cell_type": "markdown",
   "metadata": {},
   "source": [
    "As we can see, there are some rows with `NaN` values, so we will get rid of them"
   ]
  },
  {
   "cell_type": "code",
   "execution_count": 67,
   "metadata": {},
   "outputs": [
    {
     "data": {
      "text/plain": [
       "(114, 18)"
      ]
     },
     "execution_count": 67,
     "metadata": {},
     "output_type": "execute_result"
    }
   ],
   "source": [
    "commutetimes_housing=commutetimes_housing.dropna()\n",
    "commutetimes_housing.shape"
   ]
  },
  {
   "cell_type": "markdown",
   "metadata": {},
   "source": [
    "As we can see, in `commutetimes_housing` we now have the dataframe with all the ZCTAs and their commutetimes and housing indexes. We should notice that we have gone down from 181 entries in the commute time CSV file to 114 now, as not all the ZCTAs have housing indexes available."
   ]
  },
  {
   "cell_type": "markdown",
   "metadata": {},
   "source": [
    "The final step for now is to save this dataframe. We will save 3 different CSV files to easy processing later if needed.\n",
    "The first file will contain all the data in the dataframe:"
   ]
  },
  {
   "cell_type": "code",
   "execution_count": 71,
   "metadata": {},
   "outputs": [],
   "source": [
    "commutetimes_housing.to_csv('prepared_data/zcta_commute_and_housing.csv', index=False)"
   ]
  },
  {
   "cell_type": "markdown",
   "metadata": {},
   "source": [
    "The second file will contain only the housing information with the ZCTA:"
   ]
  },
  {
   "cell_type": "code",
   "execution_count": 72,
   "metadata": {},
   "outputs": [],
   "source": [
    "commutetimes_housing[[\"ZCTA5CE10\", \"zhvi_sfh\", \"zhvi_mfh\", \"zhvi_1bd\", \"zhvi_2bd\", \"zhvi_3bd\", \"zhvi_4bd\", \"zhvi_5bd\", \"zri_all\"]].to_csv('prepared_data/zcta_housing.csv', index=False)"
   ]
  },
  {
   "cell_type": "markdown",
   "metadata": {},
   "source": [
    "The final file with contain only the commute time, but only for the rows that also have housing information available:"
   ]
  },
  {
   "cell_type": "code",
   "execution_count": 73,
   "metadata": {},
   "outputs": [],
   "source": [
    "commutetimes_housing[[\"ZCTA5CE10\", \"ct_06:00\", \"ct_06:30\", \"ct_07:00\", \"ct_07:30\", \"ct_08:00\", \"ct_08:30\", \"ct_09:00\", \"ct_09:30\"]].to_csv('prepared_data/zcta_commute_times_after_housing.csv', index=False)"
   ]
  },
  {
   "cell_type": "code",
   "execution_count": null,
   "metadata": {},
   "outputs": [],
   "source": []
  }
 ],
 "metadata": {
  "kernelspec": {
   "display_name": "Python 3",
   "language": "python",
   "name": "python3"
  },
  "language_info": {
   "codemirror_mode": {
    "name": "ipython",
    "version": 3
   },
   "file_extension": ".py",
   "mimetype": "text/x-python",
   "name": "python",
   "nbconvert_exporter": "python",
   "pygments_lexer": "ipython3",
   "version": "3.8.2"
  }
 },
 "nbformat": 4,
 "nbformat_minor": 4
}
